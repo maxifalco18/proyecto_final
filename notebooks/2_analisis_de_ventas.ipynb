{
 "cells": [
  {
   "cell_type": "code",
   "execution_count": null,
   "id": "2c861f93",
   "metadata": {
    "vscode": {
     "languageId": "plaintext"
    }
   },
   "outputs": [],
   "source": [
    "# Celda 1: Importaciones\n",
    "import sys\n",
    "import os\n",
    "# Añadir el directorio raíz al path para poder importar desde src\n",
    "sys.path.append(os.path.abspath(os.path.join(os.path.dirname(__file__), '..')))\n",
    "\n",
    "from src.repository import DataRepository\n",
    "import pandas as pd\n",
    "import matplotlib.pyplot as plt\n",
    "import seaborn as sns"
   ]
  },
  {
   "cell_type": "code",
   "execution_count": null,
   "id": "880e834a",
   "metadata": {
    "vscode": {
     "languageId": "plaintext"
    }
   },
   "outputs": [],
   "source": [
    "# Celda 2: Inicializar el Repositorio\n",
    "# La primera vez que se llame, se creará la conexión.\n",
    "print(\"Inicializando el repositorio...\")\n",
    "repo = DataRepository()\n",
    "print(\"Repositorio listo.\")"
   ]
  },
  {
   "cell_type": "code",
   "execution_count": null,
   "id": "d60f115a",
   "metadata": {
    "vscode": {
     "languageId": "plaintext"
    }
   },
   "outputs": [],
   "source": [
    "# Celda 3: Obtener los datos\n",
    "# Aquí no hay SQL, solo una llamada a un método claro y legible.\n",
    "print(\"\\nObteniendo resumen de ventas por país...\")\n",
    "sales_summary_df = repo.get_sales_summary_by_country()"
   ]
  },
  {
   "cell_type": "code",
   "execution_count": null,
   "id": "924f9550",
   "metadata": {
    "vscode": {
     "languageId": "plaintext"
    }
   },
   "outputs": [],
   "source": [
    "# Celda 4: Mostrar los resultados\n",
    "print(\"\\nResumen de Ventas por País:\")\n",
    "display(sales_summary_df)"
   ]
  },
  {
   "cell_type": "code",
   "execution_count": null,
   "id": "720ef59a",
   "metadata": {
    "vscode": {
     "languageId": "plaintext"
    }
   },
   "outputs": [],
   "source": [
    "# Celda 5: Visualizar los resultados\n",
    "if not sales_summary_df.empty:\n",
    "    plt.figure(figsize=(12, 8))\n",
    "    sns.barplot(data=sales_summary_df, x='totalrevenue', y='countryname', palette='viridis')\n",
    "    plt.title('Ingresos Totales por País')\n",
    "    plt.xlabel('Ingresos Totales (USD)')\n",
    "    plt.ylabel('País')\n",
    "    plt.tight_layout()\n",
    "    plt.show()"
   ]
  }
 ],
 "metadata": {
  "language_info": {
   "name": "python"
  }
 },
 "nbformat": 4,
 "nbformat_minor": 5
}
