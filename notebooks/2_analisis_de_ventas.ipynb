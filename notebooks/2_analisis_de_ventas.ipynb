{
 "cells": [
  {
   "cell_type": "code",
   "execution_count": 1,
   "id": "2c861f93",
   "metadata": {},
   "outputs": [
    {
     "name": "stdout",
     "output_type": "stream",
     "text": [
      "Módulos importados y path configurado correctamente.\n"
     ]
    }
   ],
   "source": [
    "# Celda 1: Importaciones y Configuración del Path\n",
    "\n",
    "import sys\n",
    "import os\n",
    "import pandas as pd\n",
    "import matplotlib.pyplot as plt\n",
    "import seaborn as sns\n",
    "\n",
    "# Añadir el directorio raíz del proyecto al sys.path\n",
    "# Esto permite que el notebook encuentre los módulos en la carpeta 'src'\n",
    "# Usamos '..' para \"subir un nivel\" desde la carpeta 'notebooks' a la raíz del proyecto.\n",
    "project_root = os.path.abspath(os.path.join(os.getcwd(), '..'))\n",
    "if project_root not in sys.path:\n",
    "    sys.path.append(project_root)\n",
    "\n",
    "# Ahora que el path está configurado, podemos importar nuestros módulos\n",
    "from src.repository import DataRepository\n",
    "\n",
    "print(\"Módulos importados y path configurado correctamente.\")"
   ]
  },
  {
   "cell_type": "code",
   "execution_count": 2,
   "id": "880e834a",
   "metadata": {},
   "outputs": [
    {
     "name": "stdout",
     "output_type": "stream",
     "text": [
      "Inicializando el repositorio...\n",
      "Creando una nueva instancia de DatabaseConnection...\n",
      "Repositorio listo.\n"
     ]
    }
   ],
   "source": [
    "# Celda 2: Inicializar el Repositorio\n",
    "# La primera vez que se llame, se creará la conexión.\n",
    "print(\"Inicializando el repositorio...\")\n",
    "repo = DataRepository()\n",
    "print(\"Repositorio listo.\")"
   ]
  },
  {
   "cell_type": "code",
   "execution_count": 3,
   "id": "d60f115a",
   "metadata": {},
   "outputs": [
    {
     "name": "stdout",
     "output_type": "stream",
     "text": [
      "\n",
      "Obteniendo resumen de ventas por país...\n",
      "<class 'pandas.core.frame.DataFrame'>\n"
     ]
    }
   ],
   "source": [
    "# Celda 3: Obtener los datos\n",
    "# Aquí no hay SQL, solo una llamada a un método claro y legible.\n",
    "print(\"\\nObteniendo resumen de ventas por país...\")\n",
    "sales_summary_df = repo.get_sales_summary_by_country()\n",
    "print(type(sales_summary_df))"
   ]
  },
  {
   "cell_type": "code",
   "execution_count": 4,
   "id": "924f9550",
   "metadata": {},
   "outputs": [
    {
     "name": "stdout",
     "output_type": "stream",
     "text": [
      "\n",
      "Resumen de Ventas por País:\n"
     ]
    },
    {
     "data": {
      "text/html": [
       "<div>\n",
       "<style scoped>\n",
       "    .dataframe tbody tr th:only-of-type {\n",
       "        vertical-align: middle;\n",
       "    }\n",
       "\n",
       "    .dataframe tbody tr th {\n",
       "        vertical-align: top;\n",
       "    }\n",
       "\n",
       "    .dataframe thead th {\n",
       "        text-align: right;\n",
       "    }\n",
       "</style>\n",
       "<table border=\"1\" class=\"dataframe\">\n",
       "  <thead>\n",
       "    <tr style=\"text-align: right;\">\n",
       "      <th></th>\n",
       "      <th>countryname</th>\n",
       "      <th>totaltransactions</th>\n",
       "      <th>totalrevenue</th>\n",
       "    </tr>\n",
       "  </thead>\n",
       "  <tbody>\n",
       "    <tr>\n",
       "      <th>0</th>\n",
       "      <td>United States</td>\n",
       "      <td>50000</td>\n",
       "      <td>7863619.0</td>\n",
       "    </tr>\n",
       "  </tbody>\n",
       "</table>\n",
       "</div>"
      ],
      "text/plain": [
       "     countryname  totaltransactions  totalrevenue\n",
       "0  United States              50000     7863619.0"
      ]
     },
     "metadata": {},
     "output_type": "display_data"
    }
   ],
   "source": [
    "# Celda 4: Mostrar los resultados\n",
    "print(\"\\nResumen de Ventas por País:\")\n",
    "display(sales_summary_df)"
   ]
  },
  {
   "cell_type": "code",
   "execution_count": 5,
   "id": "720ef59a",
   "metadata": {},
   "outputs": [
    {
     "name": "stderr",
     "output_type": "stream",
     "text": [
      "C:\\Users\\CTI23994\\AppData\\Local\\Temp\\ipykernel_2648\\529220211.py:4: FutureWarning: \n",
      "\n",
      "Passing `palette` without assigning `hue` is deprecated and will be removed in v0.14.0. Assign the `y` variable to `hue` and set `legend=False` for the same effect.\n",
      "\n",
      "  sns.barplot(data=sales_summary_df, x='totalrevenue', y='countryname', palette='viridis')\n"
     ]
    },
    {
     "data": {
      "image/png": "[encoded data removed]",
      "text/plain": [
       "<Figure size 1200x800 with 1 Axes>"
      ]
     },
     "metadata": {},
     "output_type": "display_data"
    }
   ],
   "source": [
    "# Celda 5: Visualizar los resultados\n",
    "if not sales_summary_df.empty:\n",
    "    plt.figure(figsize=(12, 8))\n",
    "    sns.barplot(data=sales_summary_df, x='totalrevenue', y='countryname', palette='viridis')\n",
    "    plt.title('Ingresos Totales por País')\n",
    "    plt.xlabel('Ingresos Totales (USD)')\n",
    "    plt.ylabel('País')\n",
    "    plt.tight_layout()\n",
    "    plt.show()"
   ]
  },
  {
   "cell_type": "code",
   "execution_count": 6,
   "id": "54ae6004",
   "metadata": {},
   "outputs": [],
   "source": [
    "# ====================================================================\n",
    "# Fase 3\n",
    "# ===================================================================="
   ]
  },
  {
   "cell_type": "code",
   "execution_count": null,
   "id": "1ff90f5b",
   "metadata": {},
   "outputs": [
    {
     "name": "stdout",
     "output_type": "stream",
     "text": [
      "Obteniendo el top 3 de productos por categoría...\n",
      "Resultado:\n"
     ]
    },
    {
     "data": {
      "text/html": [
       "<div>\n",
       "<style scoped>\n",
       "    .dataframe tbody tr th:only-of-type {\n",
       "        vertical-align: middle;\n",
       "    }\n",
       "\n",
       "    .dataframe tbody tr th {\n",
       "        vertical-align: top;\n",
       "    }\n",
       "\n",
       "    .dataframe thead th {\n",
       "        text-align: right;\n",
       "    }\n",
       "</style>\n",
       "<table border=\"1\" class=\"dataframe\">\n",
       "  <thead>\n",
       "    <tr style=\"text-align: right;\">\n",
       "      <th></th>\n",
       "      <th>categoryname</th>\n",
       "      <th>productname</th>\n",
       "      <th>totalquantitysold</th>\n",
       "    </tr>\n",
       "  </thead>\n",
       "  <tbody>\n",
       "    <tr>\n",
       "      <th>0</th>\n",
       "      <td>Beverages</td>\n",
       "      <td>Garlic - Primerba; Paste</td>\n",
       "      <td>1937</td>\n",
       "    </tr>\n",
       "    <tr>\n",
       "      <th>1</th>\n",
       "      <td>Cereals</td>\n",
       "      <td>Brandy - Bar</td>\n",
       "      <td>1904</td>\n",
       "    </tr>\n",
       "    <tr>\n",
       "      <th>2</th>\n",
       "      <td>Confections</td>\n",
       "      <td>Sprouts - Alfalfa</td>\n",
       "      <td>1910</td>\n",
       "    </tr>\n",
       "    <tr>\n",
       "      <th>3</th>\n",
       "      <td>Dairy</td>\n",
       "      <td>Nantucket - Pomegranate Pear</td>\n",
       "      <td>1657</td>\n",
       "    </tr>\n",
       "    <tr>\n",
       "      <th>4</th>\n",
       "      <td>Grain</td>\n",
       "      <td>Creme De Banane - Marie</td>\n",
       "      <td>1611</td>\n",
       "    </tr>\n",
       "    <tr>\n",
       "      <th>5</th>\n",
       "      <td>Meat</td>\n",
       "      <td>Bread - Italian Roll With Herbs</td>\n",
       "      <td>1916</td>\n",
       "    </tr>\n",
       "    <tr>\n",
       "      <th>6</th>\n",
       "      <td>Poultry</td>\n",
       "      <td>Campari</td>\n",
       "      <td>1773</td>\n",
       "    </tr>\n",
       "    <tr>\n",
       "      <th>7</th>\n",
       "      <td>Produce</td>\n",
       "      <td>Guinea Fowl</td>\n",
       "      <td>1875</td>\n",
       "    </tr>\n",
       "    <tr>\n",
       "      <th>8</th>\n",
       "      <td>Seafood</td>\n",
       "      <td>Wine - Fume Blanc Fetzer</td>\n",
       "      <td>1713</td>\n",
       "    </tr>\n",
       "    <tr>\n",
       "      <th>9</th>\n",
       "      <td>Shell fish</td>\n",
       "      <td>Cake - Box Window 10x10x2.5</td>\n",
       "      <td>1882</td>\n",
       "    </tr>\n",
       "    <tr>\n",
       "      <th>10</th>\n",
       "      <td>Snails</td>\n",
       "      <td>Vol Au Vents</td>\n",
       "      <td>1782</td>\n",
       "    </tr>\n",
       "  </tbody>\n",
       "</table>\n",
       "</div>"
      ],
      "text/plain": [
       "   categoryname                      productname  totalquantitysold\n",
       "0     Beverages         Garlic - Primerba; Paste               1937\n",
       "1       Cereals                     Brandy - Bar               1904\n",
       "2   Confections                Sprouts - Alfalfa               1910\n",
       "3         Dairy     Nantucket - Pomegranate Pear               1657\n",
       "4         Grain          Creme De Banane - Marie               1611\n",
       "5          Meat  Bread - Italian Roll With Herbs               1916\n",
       "6       Poultry                          Campari               1773\n",
       "7       Produce                      Guinea Fowl               1875\n",
       "8       Seafood         Wine - Fume Blanc Fetzer               1713\n",
       "9    Shell fish      Cake - Box Window 10x10x2.5               1882\n",
       "10       Snails                     Vol Au Vents               1782"
      ]
     },
     "metadata": {},
     "output_type": "display_data"
    }
   ],
   "source": [
    "# ====================================================================\n",
    "# Ranking de Productos\n",
    "# ====================================================================\n",
    "\n",
    "print(\"Obteniendo el top 3 de productos por categoría...\")\n",
    "top_products_df = repo.get_top_products_per_category(limit=3)\n",
    "\n",
    "print(\"Resultado:\")\n",
    "display(top_products_df)"
   ]
  },
  {
   "cell_type": "code",
   "execution_count": 8,
   "id": "48df6c83",
   "metadata": {},
   "outputs": [
    {
     "name": "stdout",
     "output_type": "stream",
     "text": [
      "Calculando el crecimiento de ventas mensual...\n",
      "Resultado:\n"
     ]
    },
    {
     "data": {
      "text/html": [
       "<div>\n",
       "<style scoped>\n",
       "    .dataframe tbody tr th:only-of-type {\n",
       "        vertical-align: middle;\n",
       "    }\n",
       "\n",
       "    .dataframe tbody tr th {\n",
       "        vertical-align: top;\n",
       "    }\n",
       "\n",
       "    .dataframe thead th {\n",
       "        text-align: right;\n",
       "    }\n",
       "</style>\n",
       "<table border=\"1\" class=\"dataframe\">\n",
       "  <thead>\n",
       "    <tr style=\"text-align: right;\">\n",
       "      <th></th>\n",
       "      <th>salemonth</th>\n",
       "      <th>monthlyrevenue</th>\n",
       "      <th>previousmonthrevenue</th>\n",
       "      <th>growthpercentage</th>\n",
       "    </tr>\n",
       "  </thead>\n",
       "  <tbody>\n",
       "  </tbody>\n",
       "</table>\n",
       "</div>"
      ],
      "text/plain": [
       "Empty DataFrame\n",
       "Columns: [salemonth, monthlyrevenue, previousmonthrevenue, growthpercentage]\n",
       "Index: []"
      ]
     },
     "metadata": {},
     "output_type": "display_data"
    }
   ],
   "source": [
    "# ====================================================================\n",
    "# Crecimiento Mensual\n",
    "# ====================================================================\n",
    "\n",
    "print(\"Calculando el crecimiento de ventas mensual...\")\n",
    "growth_df = repo.get_monthly_sales_growth()\n",
    "\n",
    "# Formatear para mejor visualización\n",
    "if not growth_df.empty:\n",
    "    growth_df['monthlyrevenue'] = growth_df['monthlyrevenue'].map('${:,.2f}'.format)\n",
    "    growth_df['previousmonthrevenue'] = growth_df['previousmonthrevenue'].map('${:,.2f}'.format)\n",
    "    growth_df['growthpercentage'] = growth_df['growthpercentage'].map('{:.2f}%'.format)\n",
    "\n",
    "print(\"Resultado:\")\n",
    "display(growth_df)"
   ]
  },
  {
   "cell_type": "code",
   "execution_count": 9,
   "id": "f6a6bb46",
   "metadata": {},
   "outputs": [
    {
     "name": "stdout",
     "output_type": "stream",
     "text": [
      "Generando reporte para el cliente con ID: 80528...\n",
      "Resultado:\n"
     ]
    },
    {
     "data": {
      "text/html": [
       "<div>\n",
       "<style scoped>\n",
       "    .dataframe tbody tr th:only-of-type {\n",
       "        vertical-align: middle;\n",
       "    }\n",
       "\n",
       "    .dataframe tbody tr th {\n",
       "        vertical-align: top;\n",
       "    }\n",
       "\n",
       "    .dataframe thead th {\n",
       "        text-align: right;\n",
       "    }\n",
       "</style>\n",
       "<table border=\"1\" class=\"dataframe\">\n",
       "  <thead>\n",
       "    <tr style=\"text-align: right;\">\n",
       "      <th></th>\n",
       "      <th>nombre_completo</th>\n",
       "      <th>ciudad</th>\n",
       "      <th>total_gastado</th>\n",
       "      <th>total_compras</th>\n",
       "      <th>fecha_ultima_compra</th>\n",
       "      <th>categoria_favorita</th>\n",
       "    </tr>\n",
       "  </thead>\n",
       "  <tbody>\n",
       "    <tr>\n",
       "      <th>0</th>\n",
       "      <td>Trisha Morrison</td>\n",
       "      <td>San Antonio</td>\n",
       "      <td>42.0</td>\n",
       "      <td>1</td>\n",
       "      <td>None</td>\n",
       "      <td>Poultry</td>\n",
       "    </tr>\n",
       "  </tbody>\n",
       "</table>\n",
       "</div>"
      ],
      "text/plain": [
       "   nombre_completo       ciudad  total_gastado  total_compras  \\\n",
       "0  Trisha Morrison  San Antonio           42.0              1   \n",
       "\n",
       "  fecha_ultima_compra categoria_favorita  \n",
       "0                None            Poultry  "
      ]
     },
     "metadata": {},
     "output_type": "display_data"
    }
   ],
   "source": [
    "# ====================================================================\n",
    "# Reporte de Cliente\n",
    "# ====================================================================\n",
    "\n",
    "customer_id_to_check = 80528  # Podemos cambiar este ID para probar diferentes clientes\n",
    "print(f\"Generando reporte para el cliente con ID: {customer_id_to_check}...\")\n",
    "customer_report_df = repo.get_customer_report(customer_id=customer_id_to_check)\n",
    "\n",
    "print(\"Resultado:\")\n",
    "display(customer_report_df)"
   ]
  }
 ],
 "metadata": {
  "kernelspec": {
   "display_name": "jira_venv",
   "language": "python",
   "name": "python3"
  },
  "language_info": {
   "codemirror_mode": {
    "name": "ipython",
    "version": 3
   },
   "file_extension": ".py",
   "mimetype": "text/x-python",
   "name": "python",
   "nbconvert_exporter": "python",
   "pygments_lexer": "ipython3",
   "version": "3.11.3"
  }
 },
 "nbformat": 4,
 "nbformat_minor": 5
}
