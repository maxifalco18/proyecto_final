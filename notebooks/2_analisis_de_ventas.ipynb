{
 "cells": [
  {
   "cell_type": "code",
   "execution_count": null,
   "id": "2c861f93",
   "metadata": {},
   "outputs": [],
   "source": [
    "# Celda 1: Importaciones y Configuración del Path\n",
    "\n",
    "import sys\n",
    "import os\n",
    "import pandas as pd\n",
    "import matplotlib.pyplot as plt\n",
    "import seaborn as sns\n",
    "\n",
    "# Añadir el directorio raíz del proyecto al sys.path\n",
    "# Esto permite que el notebook encuentre los módulos en la carpeta 'src'\n",
    "# Usamos '..' para \"subir un nivel\" desde la carpeta 'notebooks' a la raíz del proyecto.\n",
    "project_root = os.path.abspath(os.path.join(os.getcwd(), '..'))\n",
    "if project_root not in sys.path:\n",
    "    sys.path.append(project_root)\n",
    "\n",
    "# Ahora que el path está configurado, podemos importar nuestros módulos\n",
    "from src.repository import DataRepository\n",
    "\n",
    "print(\"Módulos importados y path configurado correctamente.\")"
   ]
  },
  {
   "cell_type": "code",
   "execution_count": null,
   "id": "880e834a",
   "metadata": {},
   "outputs": [],
   "source": [
    "# Celda 2: Inicializar el Repositorio\n",
    "# La primera vez que se llame, se creará la conexión.\n",
    "print(\"Inicializando el repositorio...\")\n",
    "repo = DataRepository()\n",
    "print(\"Repositorio listo.\")"
   ]
  },
  {
   "cell_type": "code",
   "execution_count": null,
   "id": "d60f115a",
   "metadata": {},
   "outputs": [],
   "source": [
    "# Celda 3: Obtener los datos\n",
    "# Aquí no hay SQL, solo una llamada a un método claro y legible.\n",
    "print(\"\\nObteniendo resumen de ventas por país...\")\n",
    "sales_summary_df = repo.get_sales_summary_by_country()\n",
    "print(type(sales_summary_df))"
   ]
  },
  {
   "cell_type": "code",
   "execution_count": null,
   "id": "924f9550",
   "metadata": {},
   "outputs": [],
   "source": [
    "# Celda 4: Mostrar los resultados\n",
    "print(\"\\nResumen de Ventas por País:\")\n",
    "display(sales_summary_df)"
   ]
  },
  {
   "cell_type": "code",
   "execution_count": null,
   "id": "720ef59a",
   "metadata": {},
   "outputs": [],
   "source": [
    "# Celda 5: Visualizar los resultados\n",
    "if not sales_summary_df.empty:\n",
    "    plt.figure(figsize=(12, 8))\n",
    "    sns.barplot(data=sales_summary_df, x='totalrevenue', y='countryname', palette='viridis')\n",
    "    plt.title('Ingresos Totales por País')\n",
    "    plt.xlabel('Ingresos Totales (USD)')\n",
    "    plt.ylabel('País')\n",
    "    plt.tight_layout()\n",
    "    plt.show()"
   ]
  }
 ],
 "metadata": {
  "kernelspec": {
   "display_name": "jira_venv",
   "language": "python",
   "name": "python3"
  },
  "language_info": {
   "codemirror_mode": {
    "name": "ipython",
    "version": 3
   },
   "file_extension": ".py",
   "mimetype": "text/x-python",
   "name": "python",
   "nbconvert_exporter": "python",
   "pygments_lexer": "ipython3",
   "version": "3.11.3"
  }
 },
 "nbformat": 4,
 "nbformat_minor": 5
}
