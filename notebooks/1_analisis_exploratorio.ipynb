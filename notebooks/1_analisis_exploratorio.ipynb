{
 "cells": [
  {
   "cell_type": "code",
   "execution_count": null,
   "id": "422d89b1",
   "metadata": {
    "vscode": {
     "languageId": "plaintext"
    }
   },
   "outputs": [],
   "source": [
    "# Celda 1: Importaciones y configuración del entorno\n",
    "import pandas as pd\n",
    "from sqlalchemy import create_engine\n",
    "import os\n",
    "from dotenv import load_dotenv\n",
    "\n",
    "# Cargar variables de entorno para la conexión a la BBDD\n",
    "load_dotenv()"
   ]
  },
  {
   "cell_type": "code",
   "execution_count": null,
   "id": "39979b5b",
   "metadata": {
    "vscode": {
     "languageId": "plaintext"
    }
   },
   "outputs": [],
   "source": [
    "# Celda 2: Conexión directa a la base de datos\n",
    "# NOTA: En esta fase exploratoria, nos conectamos directamente.\n",
    "# En la Fase 2, esto se abstrae con el Repository.\n",
    "db_user = os.getenv(\"POSTGRES_USER\")\n",
    "db_password = os.getenv(\"POSTGRES_PASSWORD\")\n",
    "db_host = os.getenv(\"POSTGRES_HOST\", \"localhost\")\n",
    "db_port = os.getenv(\"POSTGRES_PORT\", \"5432\")\n",
    "db_name = os.getenv(\"POSTGRES_DB\")\n",
    "\n",
    "db_url = f\"postgresql+psycopg2://{db_user}:{db_password}@{db_host}:{db_port}/{db_name}\"\n",
    "engine = create_engine(db_url)\n",
    "\n",
    "print(\"Conexión al motor de la base de datos establecida.\")"
   ]
  },
  {
   "cell_type": "code",
   "execution_count": null,
   "id": "da430add",
   "metadata": {
    "vscode": {
     "languageId": "plaintext"
    }
   },
   "outputs": [],
   "source": [
    "# Celda 3: Cargar algunas tablas para inspección\n",
    "print(\"\\nCargando tabla de productos...\")\n",
    "products_df = pd.read_sql(\"SELECT * FROM products LIMIT 1000\", engine)\n",
    "\n",
    "print(\"Cargando tabla de ventas...\")\n",
    "sales_df = pd.read_sql(\"SELECT * FROM sales LIMIT 1000\", engine)"
   ]
  },
  {
   "cell_type": "code",
   "execution_count": null,
   "id": "c7f10a8a",
   "metadata": {
    "vscode": {
     "languageId": "plaintext"
    }
   },
   "outputs": [],
   "source": [
    "# Celda 4: Inspección básica de los datos de Productos\n",
    "print(\"\\n--- Información de la tabla de Productos ---\")\n",
    "products_df.info()\n",
    "\n",
    "print(\"\\n--- Primeros 5 productos ---\")\n",
    "display(products_df.head())"
   ]
  },
  {
   "cell_type": "code",
   "execution_count": null,
   "id": "9484e7a4",
   "metadata": {
    "vscode": {
     "languageId": "plaintext"
    }
   },
   "outputs": [],
   "source": [
    "# Celda 5: Inspección básica de los datos de Ventas\n",
    "print(\"\\n--- Información de la tabla de Ventas ---\")\n",
    "sales_df.info()\n",
    "\n",
    "print(\"\\n--- Primeras 5 ventas ---\")\n",
    "display(sales_df.head())"
   ]
  },
  {
   "cell_type": "code",
   "execution_count": null,
   "id": "fbeb35fb",
   "metadata": {
    "vscode": {
     "languageId": "plaintext"
    }
   },
   "outputs": [],
   "source": [
    "# Celda 6: Revisar los valores problemáticos de 'SalesDate'\n",
    "print(\"\\n--- Ejemplos de 'SalesDate' que justifican el tipo TEXT ---\")\n",
    "# Como es texto, podemos usar filtros de texto para encontrar valores extraños\n",
    "problematic_dates = pd.read_sql(\"SELECT SalesDate FROM sales WHERE SalesDate LIKE '%:%'\", engine)\n",
    "display(problematic_dates.head())"
   ]
  }
 ],
 "metadata": {
  "language_info": {
   "name": "python"
  }
 },
 "nbformat": 4,
 "nbformat_minor": 5
}
